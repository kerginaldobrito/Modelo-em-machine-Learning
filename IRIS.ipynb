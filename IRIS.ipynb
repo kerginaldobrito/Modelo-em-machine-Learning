{
 "cells": [
  {
   "cell_type": "markdown",
   "id": "c0925595",
   "metadata": {},
   "source": [
    "Bibliotecas: permitem que se façam várias ações sem ter que se desenvolva o código."
   ]
  },
  {
   "cell_type": "code",
   "execution_count": null,
   "id": "3850906b",
   "metadata": {},
   "outputs": [],
   "source": [
    "from sklearn import datasets # Contém várias funções úteis para carregar e gerar conjuntos de dados.\n",
    "import pandas as pd # Importa a biblioteca pandas e a renomeia como pd para para manipulação e análise de dados.\n",
    "import numpy as np # Importa a biblioteca NumPy e a renomeia como np oferecendo suporte para arrays.\n",
    "import matplotlib.pyplot as plt # Importa o módulo pyplot da biblioteca Matplotlib para visualização de dados.\n",
    "import seaborn as sns # Biblioteca de visualização de dados em Python baseada no Matplotlib. \n",
    "from sklearn.tree import DecisionTreeClassifier # Algoritmo utilizando os métodos de árvores de decisão.\n",
    "from sklearn.model_selection import train_test_split # Divide o comjunto de dados em treino e teste.\n",
    "from sklearn.metrics import accuracy_score # Calcula a acurácia de um modelo de classificação."
   ]
  },
  {
   "cell_type": "markdown",
   "id": "46e0195f",
   "metadata": {},
   "source": [
    "Carregar o arquivo csv."
   ]
  },
  {
   "cell_type": "code",
   "execution_count": null,
   "id": "affc6364",
   "metadata": {},
   "outputs": [],
   "source": [
    "url='https://raw.githubusercontent.com/kerginaldobrito/IRIS/main/Iris.csv' "
   ]
  },
  {
   "cell_type": "code",
   "execution_count": null,
   "id": "c384e183",
   "metadata": {},
   "outputs": [],
   "source": [
    "print(url) # Imprime a url que leva ao arquivo csv."
   ]
  },
  {
   "cell_type": "code",
   "execution_count": null,
   "id": "38e18fbd",
   "metadata": {},
   "outputs": [],
   "source": [
    "df = pd.read_csv(url) # Ler um arquivo CSV de uma URL e carregá-lo em um DataFrame chamado df."
   ]
  },
  {
   "cell_type": "code",
   "execution_count": null,
   "id": "bf01e219",
   "metadata": {},
   "outputs": [],
   "source": [
    "type(df) # Tipo da variável df = é uma instância da classe DataFrame da biblioteca pandas."
   ]
  },
  {
   "cell_type": "markdown",
   "id": "33a3ba64",
   "metadata": {},
   "source": [
    "Retornando as cinco primeiras linhas do arquivo."
   ]
  },
  {
   "cell_type": "code",
   "execution_count": null,
   "id": "38438391",
   "metadata": {},
   "outputs": [],
   "source": [
    "print(df.head()) # Exibindo as primeiras 5 linhas de um DataFrame df."
   ]
  },
  {
   "cell_type": "markdown",
   "id": "e1ec54dd",
   "metadata": {},
   "source": [
    "Contando o número de linhas e colunas, em seguida mostrando na tela."
   ]
  },
  {
   "cell_type": "code",
   "execution_count": null,
   "id": "c2fdbd64",
   "metadata": {},
   "outputs": [],
   "source": [
    "num_linhas = df.shape[0] # Obter o número de linhas em um DataFrame df e armazená-lo na variável num_linhas.\n",
    "num_colunas = df.shape[1] # Obter o número de colunas em um DataFrame df e armazená-lo na variável num_colunas.\n",
    "\n",
    "print(f\"Número de linhas: {num_linhas}\")\n",
    "print(f\"Número de colunas: {num_colunas}\")\n"
   ]
  },
  {
   "cell_type": "markdown",
   "id": "317410f7",
   "metadata": {},
   "source": [
    "Verificando a existência de dados nulos no dataset."
   ]
  },
  {
   "cell_type": "code",
   "execution_count": null,
   "id": "d06b913b",
   "metadata": {},
   "outputs": [],
   "source": [
    "df.info() # A partir desse comando é possível verificar não existem dados nulos nas 150 entradas."
   ]
  },
  {
   "cell_type": "markdown",
   "id": "dc03244c",
   "metadata": {},
   "source": [
    "Gráfico de dispersão."
   ]
  },
  {
   "cell_type": "code",
   "execution_count": null,
   "id": "25c1dd6c",
   "metadata": {},
   "outputs": [],
   "source": [
    "plt.figure(figsize=(5,5)) # Criar uma área de plotagem e definir o seu tamanho(5 pol. de altura x 5 pol. de altura).)\n",
    "sns.scatterplot(data= df, x = 'PetalLengthCm', y = 'SepalWidthCm', hue = 'Species')\n",
    "# Utiliza a biblioteca Seaborn para criar um gráfico de dispersão (scatter plot) a partir de um DataFrame df.\n",
    "plt.title('Comprimento x largura das Sépalas') # Define o título do gráfico.\n",
    "plt.xlabel('Largura (cm)') # Define a largura no eixo x.\n",
    "plt.ylabel('Comprimento (cm)') # Define o comprimento no eixo y.\n",
    "plt.show() # Exibir gráficos criados com a biblioteca Matplotlib."
   ]
  },
  {
   "cell_type": "code",
   "execution_count": null,
   "id": "71560a95",
   "metadata": {},
   "outputs": [],
   "source": [
    "plt.figure(figsize=(5,5)) # criar uma área de plotagem e definir o seu tamanho(5 pol. de altura x 5 pol. de altura).\n",
    "sns.scatterplot(data= df, x = 'SepalLengthCm', y = 'PetalWidthCm', hue = 'Species')\n",
    "# Utiliza a biblioteca Seaborn para criar um gráfico de dispersão (scatter plot) a partir de um DataFrame df.\n",
    "plt.title('Comprimento x largura das Pétalas') # Define o título do gráfico.\n",
    "plt.xlabel('Comprimento (cm)') # Define a largura no eixo x\n",
    "plt.ylabel('Largura (cm)') # Define o comprimento no eixo y.\n",
    "plt.show() # Exibir gráficos criados com a biblioteca Matplotlib."
   ]
  },
  {
   "cell_type": "markdown",
   "id": "9e417d05",
   "metadata": {},
   "source": [
    "Selecionando as features (entradas) e os rótulos (saídas)."
   ]
  },
  {
   "cell_type": "code",
   "execution_count": null,
   "id": "3330d067",
   "metadata": {},
   "outputs": [],
   "source": [
    "X = df[['SepalLengthCm', 'SepalWidthCm', 'PetalLengthCm', 'PetalWidthCm']] # Entradas\n",
    "# Selecionar as 4 colunas de comp. e largura de Sépalas e Pétalas do DataFrame df e armazená-lo em uma variável X.\n",
    "y = df['Species']  # Saídas\n",
    "# Selecionar a coluna Espécies do DataFrame df e armazená-la na variável y."
   ]
  },
  {
   "cell_type": "markdown",
   "id": "97b0d686",
   "metadata": {},
   "source": [
    "Separação do conjunto de dados em duas partes: um conjunto de treinamento e um conjunto de teste."
   ]
  },
  {
   "cell_type": "code",
   "execution_count": null,
   "id": "4661b122",
   "metadata": {},
   "outputs": [],
   "source": [
    "X_train, X_test, y_train, y_test = train_test_split(X, y, test_size=0.35, random_state=42)\n",
    "# test_size=0.2: 35% dos dados serão usados em teste e 60% usados em treinamento.\n",
    "# random_state=42: garantir que o resultado seja sempre o mesmo. "
   ]
  },
  {
   "cell_type": "markdown",
   "id": "5ec74e7d",
   "metadata": {},
   "source": [
    "Treinando o modelo com um modelo de árvore de decisão para tarefas de classificação."
   ]
  },
  {
   "cell_type": "code",
   "execution_count": null,
   "id": "0376af7e",
   "metadata": {},
   "outputs": [],
   "source": [
    "model = DecisionTreeClassifier() # Cria uma instância da classe DecisionTreeClassifier da biblioteca scikit-learn.\n",
    "model.fit(X_train, y_train) # Treina um modelo de machine learning com os dados de treinamento. "
   ]
  },
  {
   "cell_type": "markdown",
   "id": "8481effc",
   "metadata": {},
   "source": [
    "Aplicando o modelo e gerando previsões."
   ]
  },
  {
   "cell_type": "code",
   "execution_count": null,
   "id": "da76e78b",
   "metadata": {},
   "outputs": [],
   "source": [
    "y_pred = model.predict(X_test) # Faz previsões com um modelo treinado.\n",
    "# O modelo usa o que aprendeu durante o treinamento para calcular as previsões com base nas características(X_test).\n",
    "# O modelo faz uma previsão de rótulo (no caso de um classificador)."
   ]
  },
  {
   "cell_type": "markdown",
   "id": "96466e56",
   "metadata": {},
   "source": [
    "Avaliando a acurácia do modelo."
   ]
  },
  {
   "cell_type": "code",
   "execution_count": null,
   "id": "939625ed",
   "metadata": {},
   "outputs": [],
   "source": [
    "accuracy = accuracy_score(y_test, y_pred)\n",
    "# Métrica que indica a proporção de previsões corretas feitas pelo modelo em relação ao total de previsões.\n",
    "print(f'Acurácia do modelo de Árvore de Decisão: {accuracy*100:.2}%')\n",
    "# Imprime a acurácia."
   ]
  },
  {
   "cell_type": "markdown",
   "id": "b41b8839",
   "metadata": {},
   "source": [
    "Comparação entre as 30 primeiras previsões obtidas pelo modelo com as amostras de testes."
   ]
  },
  {
   "cell_type": "code",
   "execution_count": null,
   "id": "f3a49900",
   "metadata": {},
   "outputs": [],
   "source": [
    "for i in range (30):\n",
    "   print(f'Previsão: {y_pred[i]}, Real: {y_test.iloc[i]}')\n",
    "# Mostra uma iteração sobre os primeiros 30 elementos de previsões (y_pred)\n",
    "# e comparando-os com os valores reais (y_test)."
   ]
  }
 ],
 "metadata": {
  "kernelspec": {
   "display_name": "Python 3 (ipykernel)",
   "language": "python",
   "name": "python3"
  },
  "language_info": {
   "codemirror_mode": {
    "name": "ipython",
    "version": 3
   },
   "file_extension": ".py",
   "mimetype": "text/x-python",
   "name": "python",
   "nbconvert_exporter": "python",
   "pygments_lexer": "ipython3",
   "version": "3.9.13"
  }
 },
 "nbformat": 4,
 "nbformat_minor": 5
}
